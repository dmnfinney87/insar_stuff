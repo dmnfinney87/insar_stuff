{
 "cells": [
  {
   "cell_type": "code",
   "execution_count": 82,
   "metadata": {
    "collapsed": false
   },
   "outputs": [
    {
     "name": "stdout",
     "output_type": "stream",
     "text": [
      "Enter path of directories: /Users/dhs/insar_data/deep_springs_auto\n"
     ]
    }
   ],
   "source": [
    "#this module will create an xml file for ALOS processing\n",
    "\n",
    "import os\n",
    "import re\n",
    "import xml.etree.cElementTree as ET\n",
    "\n",
    "#this section gets the path to the directory\n",
    "\n",
    "path_to_data=input ('Enter path of directories: ')\n",
    "\n",
    "def find_path(item,list):\n",
    "    path= [s for s in list if item in s]\n",
    "    return(path[0])\n",
    "    \n",
    "\n",
    "os.chdir(path_to_data)\n",
    "folders=os.listdir()\n"
   ]
  },
  {
   "cell_type": "code",
   "execution_count": 83,
   "metadata": {
    "collapsed": false
   },
   "outputs": [
    {
     "name": "stdout",
     "output_type": "stream",
     "text": [
      "/Users/dhs/insar_data/deep_springs_auto/ALPSRP114390730-L1.0/IMG-HH-ALPSRP114390730-H1.0__A /Users/dhs/insar_data/deep_springs_auto/ALPSRP114390730-L1.0/LED-ALPSRP114390730-H1.0__A /Users/dhs/insar_data/deep_springs_auto/ALPSRP154650730-L1.0/IMG-HH-ALPSRP154650730-H1.0__A /Users/dhs/insar_data/deep_springs_auto/ALPSRP154650730-L1.0/LED-ALPSRP154650730-H1.0__A\n"
     ]
    }
   ],
   "source": [
    "#this section gets the name of the IMG and LDR files\n",
    "\n",
    "os.chdir(path_to_data+'/'+folders[0])\n",
    "os.getcwd()\n",
    "a_contents=os.listdir()\n",
    "\n",
    "a_IMG=os.getcwd()+'/'+find_path('IMG',a_contents)\n",
    "a_LED=os.getcwd()+'/'+find_path('LED',a_contents)\n",
    "\n",
    "os.chdir(path_to_data+'/'+folders[1])\n",
    "b_contents=os.listdir()\n",
    "\n",
    "b_IMG=os.getcwd()+'/'+find_path('IMG',b_contents)\n",
    "b_LED=os.getcwd()+'/'+find_path('LED',b_contents)\n",
    "\n",
    "print(a_IMG,a_LED,b_IMG,b_LED)\n"
   ]
  },
  {
   "cell_type": "code",
   "execution_count": 84,
   "metadata": {
    "collapsed": false
   },
   "outputs": [],
   "source": [
    "#this section creates an .xml file out of the inputs\n",
    "\n",
    "root = ET.Element(\"insarApp\")\n",
    "insarApp=ET.SubElement(root, \"component\",name=\"insarApp\")\n",
    "unwrap_yes=ET.SubElement(insarApp, \"property\",name=\"unwrap\").text=\"True\"\n",
    "unwrap_type=ET.SubElement(insarApp, \"property\",name=\"unwrapper name\").text=\"icu\"\n",
    "sensor=ET.SubElement(insarApp, \"property\",name=\"sensor name\").text=\"ALOS\"\n",
    "\n",
    "master=ET.SubElement(root, \"component\",name=\"Master\")\n",
    "img_file_1=unwrap_type=ET.SubElement(master, \"property\",name=\"IMAGEFILE\").text=a_IMG\n",
    "img_file_1=unwrap_type=ET.SubElement(master, \"property\",name=\"LEADERFILE\").text=a_LED\n",
    "img_file_1=unwrap_type=ET.SubElement(master, \"property\",name=\"OUTPUT\").text='20080318.raw'\n",
    "\n",
    "master=ET.SubElement(root, \"component\",name=\"Slave\")\n",
    "img_file_2=unwrap_type=ET.SubElement(master, \"property\",name=\"IMAGEFILE\").text=b_IMG\n",
    "img_file_2=unwrap_type=ET.SubElement(master, \"property\",name=\"LEADERFILE\").text=b_LED\n",
    "img_file_2=unwrap_type=ET.SubElement(master, \"property\",name=\"OUTPUT\").text='20081219.raw'\n",
    "\n",
    "tree = ET.ElementTree(root)\n",
    "os.chdir(path_to_data)\n",
    "tree.write(\"insarApp.xml\")\n",
    "\n",
    "\n",
    "\n",
    "\n"
   ]
  },
  {
   "cell_type": "code",
   "execution_count": null,
   "metadata": {
    "collapsed": true
   },
   "outputs": [],
   "source": []
  }
 ],
 "metadata": {
  "anaconda-cloud": {},
  "kernelspec": {
   "display_name": "Python [default]",
   "language": "python",
   "name": "python3"
  },
  "language_info": {
   "codemirror_mode": {
    "name": "ipython",
    "version": 3
   },
   "file_extension": ".py",
   "mimetype": "text/x-python",
   "name": "python",
   "nbconvert_exporter": "python",
   "pygments_lexer": "ipython3",
   "version": "3.5.2"
  }
 },
 "nbformat": 4,
 "nbformat_minor": 1
}
